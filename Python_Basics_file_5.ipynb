{
 "cells": [
  {
   "cell_type": "code",
   "execution_count": 1,
   "metadata": {},
   "outputs": [
    {
     "data": {
      "text/plain": [
       "4"
      ]
     },
     "execution_count": 1,
     "metadata": {},
     "output_type": "execute_result"
    }
   ],
   "source": [
    "#importing math library\n",
    "import math\n",
    "math.ceil(3.1)"
   ]
  },
  {
   "cell_type": "code",
   "execution_count": 2,
   "metadata": {},
   "outputs": [
    {
     "name": "stdout",
     "output_type": "stream",
     "text": [
      "['__doc__', '__loader__', '__name__', '__package__', '__spec__', 'acos', 'acosh', 'asin', 'asinh', 'atan', 'atan2', 'atanh', 'ceil', 'copysign', 'cos', 'cosh', 'degrees', 'e', 'erf', 'erfc', 'exp', 'expm1', 'fabs', 'factorial', 'floor', 'fmod', 'frexp', 'fsum', 'gamma', 'gcd', 'hypot', 'inf', 'isclose', 'isfinite', 'isinf', 'isnan', 'ldexp', 'lgamma', 'log', 'log10', 'log1p', 'log2', 'modf', 'nan', 'pi', 'pow', 'radians', 'remainder', 'sin', 'sinh', 'sqrt', 'tan', 'tanh', 'tau', 'trunc']\n"
     ]
    }
   ],
   "source": [
    "#dir() shows all methods within the module\n",
    "print(dir(math))"
   ]
  },
  {
   "cell_type": "markdown",
   "metadata": {},
   "source": [
    "When we find the function in the module we want to use, we can read about it more using the help function, inside the Python interpreter:"
   ]
  },
  {
   "cell_type": "code",
   "execution_count": 3,
   "metadata": {},
   "outputs": [
    {
     "name": "stdout",
     "output_type": "stream",
     "text": [
      "Help on built-in function ceil in module math:\n",
      "\n",
      "ceil(x, /)\n",
      "    Return the ceiling of x as an Integral.\n",
      "    \n",
      "    This is the smallest integer >= x.\n",
      "\n"
     ]
    }
   ],
   "source": [
    "#help() shows what the method does\n",
    "help(math.ceil)"
   ]
  },
  {
   "cell_type": "code",
   "execution_count": 4,
   "metadata": {},
   "outputs": [
    {
     "ename": "ModuleNotFoundError",
     "evalue": "No module named 'package'",
     "output_type": "error",
     "traceback": [
      "\u001b[1;31m---------------------------------------------------------------------------\u001b[0m",
      "\u001b[1;31mModuleNotFoundError\u001b[0m                       Traceback (most recent call last)",
      "\u001b[1;32m<ipython-input-4-54bc15e09269>\u001b[0m in \u001b[0;36m<module>\u001b[1;34m()\u001b[0m\n\u001b[0;32m      1\u001b[0m \u001b[1;31m#Syntax for importing module within a package\u001b[0m\u001b[1;33m\u001b[0m\u001b[1;33m\u001b[0m\u001b[0m\n\u001b[1;32m----> 2\u001b[1;33m \u001b[1;32mfrom\u001b[0m \u001b[0mpackage\u001b[0m \u001b[1;32mimport\u001b[0m \u001b[0mmodule\u001b[0m\u001b[1;33m\u001b[0m\u001b[0m\n\u001b[0m",
      "\u001b[1;31mModuleNotFoundError\u001b[0m: No module named 'package'"
     ]
    }
   ],
   "source": [
    "#Syntax for importing module within a package\n",
    "from package import module"
   ]
  },
  {
   "cell_type": "code",
   "execution_count": 5,
   "metadata": {},
   "outputs": [],
   "source": [
    "#Exception handling\n",
    "def sum():\n",
    "    while True:\n",
    "        try:\n",
    "            val1 = int(input(\"Enter an integer: \"))\n",
    "            val2 = int(input(\"Enter an integer: \"))\n",
    "        except:\n",
    "            print(\"Please enter an integer!\")\n",
    "            continue\n",
    "        else:\n",
    "            sum = val1 + val2\n",
    "            print(\"Sum: \",sum)\n",
    "            break\n",
    "        finally:\n",
    "            print(\"Method executed\")"
   ]
  },
  {
   "cell_type": "code",
   "execution_count": 6,
   "metadata": {
    "scrolled": true
   },
   "outputs": [
    {
     "name": "stdout",
     "output_type": "stream",
     "text": [
      "Enter an integer: first\n",
      "Please enter an integer!\n",
      "Method executed\n",
      "Enter an integer: 12\n",
      "Enter an integer: second\n",
      "Please enter an integer!\n",
      "Method executed\n",
      "Enter an integer: 12\n",
      "Enter an integer: 45\n",
      "Sum:  57\n",
      "Method executed\n"
     ]
    }
   ],
   "source": [
    "sum()"
   ]
  },
  {
   "cell_type": "code",
   "execution_count": 20,
   "metadata": {},
   "outputs": [],
   "source": [
    "#Database\n",
    "import sqlite3\n",
    "\n",
    "#Connecting to the database\n",
    "db = sqlite3.connect(\"company.db\")\n",
    "\n",
    "#Drop table if it already exists through execute()\n",
    "db.execute(\"drop table if exists employee\")\n",
    "\n",
    "#Creating table employee\n",
    "db.execute(\"create table employee(id int, name text, salary int)\")\n",
    "\n",
    "#inserting values in the table\n",
    "db.execute(\"insert into employee(id, name, salary) values(1, 'Bruce', 10000)\")\n",
    "db.execute(\"insert into employee(id, name, salary) values(2, 'Clarke', 20000)\")\n",
    "db.execute(\"insert into employee(id, name, salary) values(3, 'Wayne', 15000)\")\n",
    "db.execute(\"insert into employee(id, name, salary) values(4, 'Kent', 25000)\")\n",
    "db.execute(\"insert into employee(id, name, salary) values(5, 'Peter', 30000)\")\n",
    "db.execute(\"insert into employee(id, name, salary) values(6, 'Parker', 17000)\")\n",
    "\n",
    "db.commit()"
   ]
  },
  {
   "cell_type": "code",
   "execution_count": 21,
   "metadata": {},
   "outputs": [
    {
     "name": "stdout",
     "output_type": "stream",
     "text": [
      "Employee ID: 1\n",
      "Employee Name: Bruce\n",
      "Employee Salary: 10000\n",
      "------------------------\n",
      "Employee ID: 2\n",
      "Employee Name: Clarke\n",
      "Employee Salary: 20000\n",
      "------------------------\n",
      "Employee ID: 3\n",
      "Employee Name: Wayne\n",
      "Employee Salary: 15000\n",
      "------------------------\n",
      "Employee ID: 4\n",
      "Employee Name: Kent\n",
      "Employee Salary: 25000\n",
      "------------------------\n",
      "Employee ID: 5\n",
      "Employee Name: Peter\n",
      "Employee Salary: 30000\n",
      "------------------------\n",
      "Employee ID: 6\n",
      "Employee Name: Parker\n",
      "Employee Salary: 17000\n",
      "------------------------\n"
     ]
    }
   ],
   "source": [
    "results = db.execute(\"select * from employee order by id\")\n",
    "for row in results:\n",
    "    print(\"Employee ID: {}\\nEmployee Name: {}\\nEmployee Salary: {}\".format(row[0],row[1],row[2]))\n",
    "    print(\"-\" * 24)"
   ]
  },
  {
   "cell_type": "code",
   "execution_count": 22,
   "metadata": {},
   "outputs": [
    {
     "name": "stdout",
     "output_type": "stream",
     "text": [
      "Employee ID: 3\n",
      "Employee Name: Wayne\n",
      "Employee Salary: 15000\n",
      "------------------------\n",
      "Employee ID: 5\n",
      "Employee Name: Peter\n",
      "Employee Salary: 30000\n",
      "------------------------\n"
     ]
    }
   ],
   "source": [
    "wayne = db.execute(\"select * from employee where name = 'Wayne' \")\n",
    "for row in wayne:\n",
    "    print(\"Employee ID: {}\\nEmployee Name: {}\\nEmployee Salary: {}\".format(row[0],row[1],row[2]))\n",
    "    print(\"-\" * 24) \n",
    "    \n",
    "peter = db.execute(\"select * from employee where name = 'Peter' \")\n",
    "for row in peter:\n",
    "    print(\"Employee ID: {}\\nEmployee Name: {}\\nEmployee Salary: {}\".format(row[0],row[1],row[2]))\n",
    "    print(\"-\" * 24)"
   ]
  },
  {
   "cell_type": "code",
   "execution_count": 23,
   "metadata": {},
   "outputs": [
    {
     "name": "stdout",
     "output_type": "stream",
     "text": [
      "Employee Name: Peter\n",
      "Employee Salary: 30000\n",
      "------------------------------------------------------------\n",
      "Employee Name: Kent\n",
      "Employee Salary: 25000\n",
      "------------------------------------------------------------\n",
      "Employee Name: Clarke\n",
      "Employee Salary: 20000\n",
      "------------------------------------------------------------\n",
      "Employee Name: Parker\n",
      "Employee Salary: 17000\n",
      "------------------------------------------------------------\n",
      "Employee Name: Wayne\n",
      "Employee Salary: 15000\n",
      "------------------------------------------------------------\n",
      "Employee Name: Bruce\n",
      "Employee Salary: 10000\n",
      "------------------------------------------------------------\n"
     ]
    }
   ],
   "source": [
    "n_s = db.execute(\"select name, salary from employee order by salary desc \")\n",
    "for row in n_s:\n",
    "    print(\"Employee Name: {}\\nEmployee Salary: {}\".format(row[0],row[1]))\n",
    "    print(\"-\" * 60 )"
   ]
  },
  {
   "cell_type": "code",
   "execution_count": 25,
   "metadata": {},
   "outputs": [
    {
     "name": "stdout",
     "output_type": "stream",
     "text": [
      "Employees with salaries over 15k\n",
      "------------------------------------------------------------\n",
      "------------------------------------------------------------\n",
      "Employee ID: 6\n",
      "Employee Name: Parker\n",
      "Employee Salary: 17000\n",
      "------------------------------------------------------------\n",
      "Employee ID: 2\n",
      "Employee Name: Clarke\n",
      "Employee Salary: 20000\n",
      "------------------------------------------------------------\n",
      "Employee ID: 4\n",
      "Employee Name: Kent\n",
      "Employee Salary: 25000\n",
      "------------------------------------------------------------\n",
      "Employee ID: 5\n",
      "Employee Name: Peter\n",
      "Employee Salary: 30000\n",
      "------------------------------------------------------------\n"
     ]
    }
   ],
   "source": [
    "salary = db.execute(\"select * from employee where salary > 15000 order by salary\")\n",
    "print(\"Employees with salaries over 15k\")\n",
    "print(\"-\" * 60 )\n",
    "print(\"-\" * 60 )\n",
    "for row in salary:\n",
    "    print(\"Employee ID: {}\\nEmployee Name: {}\\nEmployee Salary: {}\".format(row[0],row[1],row[2]))\n",
    "    print(\"-\" * 60 )"
   ]
  },
  {
   "cell_type": "code",
   "execution_count": null,
   "metadata": {},
   "outputs": [],
   "source": []
  }
 ],
 "metadata": {
  "kernelspec": {
   "display_name": "Python 3",
   "language": "python",
   "name": "python3"
  },
  "language_info": {
   "codemirror_mode": {
    "name": "ipython",
    "version": 3
   },
   "file_extension": ".py",
   "mimetype": "text/x-python",
   "name": "python",
   "nbconvert_exporter": "python",
   "pygments_lexer": "ipython3",
   "version": "3.7.0"
  }
 },
 "nbformat": 4,
 "nbformat_minor": 2
}
