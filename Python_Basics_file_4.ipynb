{
 "cells": [
  {
   "cell_type": "code",
   "execution_count": 47,
   "metadata": {},
   "outputs": [
    {
     "name": "stdout",
     "output_type": "stream",
     "text": [
      "AiRobosoft Internsoft was born in 1998\n",
      "22\n"
     ]
    }
   ],
   "source": [
    "#Class initialization, follow SRP while making classes\n",
    "class Person:\n",
    "    def __init__(self, fname, lname, dob):\n",
    "        self.fname = fname\n",
    "        self.lname = lname\n",
    "        self.dob = dob\n",
    "    \n",
    "    def age(self, current_year):\n",
    "        #Returns the age\n",
    "        return current_year - self.dob\n",
    "    \n",
    "    def __str__(self):\n",
    "        #prints when object is called in print()\n",
    "        return \"{} {} was born in {}\".format(self.fname, self.lname, self.dob)\n",
    "    \n",
    "fname = Person(\"AiRobosoft\", \"Internsoft\", 1998)\n",
    "print(fname)\n",
    "print(fname.age(2020))\n"
   ]
  },
  {
   "cell_type": "code",
   "execution_count": 48,
   "metadata": {},
   "outputs": [
    {
     "name": "stdout",
     "output_type": "stream",
     "text": [
      "12\n",
      "True\n",
      "True\n",
      "AiRobosoft Internsoft was born in 1998 and has ID: 12\n"
     ]
    }
   ],
   "source": [
    "#Inheritance\n",
    "class Student(Person):\n",
    "    def __init__(self, id, *args, **kwargs):\n",
    "        super(Student, self).__init__(*args, **kwargs)\n",
    "        self.id = id\n",
    "        print(self.id)\n",
    "        \n",
    "    #Overriding\n",
    "    def __str__(self):\n",
    "        return super(Student, self).__str__() + \" and has ID: {}\".format(self.id)\n",
    "        \n",
    "student = Student(12, 'AiRobosoft', 'Internsoft', 1998)\n",
    "print(isinstance(student, Person))\n",
    "print(isinstance(student, Student))\n",
    "print(student)"
   ]
  },
  {
   "cell_type": "code",
   "execution_count": 49,
   "metadata": {},
   "outputs": [
    {
     "name": "stdout",
     "output_type": "stream",
     "text": [
      "Arithematic:  31\n",
      "Concatenation INTERNsoft\n",
      "Lists:  [1, 2, 3, 4, 5]\n"
     ]
    }
   ],
   "source": [
    "#Polymorphism\n",
    "def add(a, b):\n",
    "    return a + b\n",
    "\n",
    "print(\"Arithematic: \", add(10, 21))\n",
    "print(\"Concatenation\",add(\"INTERN\", \"soft\"))\n",
    "print(\"Lists: \",add([1, 2, 3], [4, 5]))"
   ]
  },
  {
   "cell_type": "code",
   "execution_count": 50,
   "metadata": {},
   "outputs": [
    {
     "name": "stdout",
     "output_type": "stream",
     "text": [
      "Overwriting test.txt\n"
     ]
    }
   ],
   "source": [
    "%%writefile test.txt\n",
    "Hello, this is a test file"
   ]
  },
  {
   "cell_type": "code",
   "execution_count": 51,
   "metadata": {},
   "outputs": [
    {
     "data": {
      "text/plain": [
       "'Hello, this is a test file'"
      ]
     },
     "execution_count": 51,
     "metadata": {},
     "output_type": "execute_result"
    }
   ],
   "source": [
    "#Opening test.txt and reading its content\n",
    "myfile = open('test.txt')\n",
    "myfile.read()"
   ]
  },
  {
   "cell_type": "code",
   "execution_count": 52,
   "metadata": {},
   "outputs": [
    {
     "data": {
      "text/plain": [
       "'Hello, this is a test file'"
      ]
     },
     "execution_count": 52,
     "metadata": {},
     "output_type": "execute_result"
    }
   ],
   "source": [
    "#Setting cursor back to the beginning\n",
    "myfile.seek(0)\n",
    "myfile.read()"
   ]
  },
  {
   "cell_type": "code",
   "execution_count": 53,
   "metadata": {},
   "outputs": [
    {
     "data": {
      "text/plain": [
       "['Hello, this is a test file']"
      ]
     },
     "execution_count": 53,
     "metadata": {},
     "output_type": "execute_result"
    }
   ],
   "source": [
    "#Using readlines()\n",
    "myfile.seek(0)\n",
    "myfile.readlines()"
   ]
  },
  {
   "cell_type": "code",
   "execution_count": 54,
   "metadata": {},
   "outputs": [
    {
     "data": {
      "text/plain": [
       "8"
      ]
     },
     "execution_count": 54,
     "metadata": {},
     "output_type": "execute_result"
    }
   ],
   "source": [
    "#w is for write mode\n",
    "myfile = open('write_test.txt','w+')\n",
    "#Writing to the file\n",
    "myfile.write('New line')"
   ]
  },
  {
   "cell_type": "code",
   "execution_count": 55,
   "metadata": {},
   "outputs": [
    {
     "data": {
      "text/plain": [
       "'New line'"
      ]
     },
     "execution_count": 55,
     "metadata": {},
     "output_type": "execute_result"
    }
   ],
   "source": [
    "#Reading the file\n",
    "myfile.seek(0)\n",
    "myfile.read()"
   ]
  },
  {
   "cell_type": "code",
   "execution_count": 56,
   "metadata": {},
   "outputs": [
    {
     "name": "stdout",
     "output_type": "stream",
     "text": [
      "Overwriting multiple_test.txt\n"
     ]
    }
   ],
   "source": [
    "%%writefile multiple_test.txt\n",
    "First line of text\n",
    "Second line of text\n",
    "Third line of text"
   ]
  },
  {
   "cell_type": "markdown",
   "metadata": {},
   "source": [
    "Now we can use a little bit of flow to tell the program to for through every line of the file and do something:"
   ]
  },
  {
   "cell_type": "code",
   "execution_count": 57,
   "metadata": {},
   "outputs": [
    {
     "name": "stdout",
     "output_type": "stream",
     "text": [
      "First line of text\n",
      "\n",
      "Second line of text\n",
      "\n",
      "Third line of text\n"
     ]
    }
   ],
   "source": [
    "for line in open('multiple_test.txt'):\n",
    "    print(line)"
   ]
  },
  {
   "cell_type": "code",
   "execution_count": 58,
   "metadata": {},
   "outputs": [],
   "source": [
    "from io import StringIO"
   ]
  },
  {
   "cell_type": "code",
   "execution_count": 73,
   "metadata": {},
   "outputs": [],
   "source": [
    "#StringIO method is used to set f as file object\n",
    "f = StringIO(\"This is a string. \")"
   ]
  },
  {
   "cell_type": "code",
   "execution_count": 74,
   "metadata": {},
   "outputs": [
    {
     "data": {
      "text/plain": [
       "'This is a string. '"
      ]
     },
     "execution_count": 74,
     "metadata": {},
     "output_type": "execute_result"
    }
   ],
   "source": [
    "f.read()"
   ]
  },
  {
   "cell_type": "code",
   "execution_count": 75,
   "metadata": {},
   "outputs": [
    {
     "data": {
      "text/plain": [
       "19"
      ]
     },
     "execution_count": 75,
     "metadata": {},
     "output_type": "execute_result"
    }
   ],
   "source": [
    "f.write('Second line of file')"
   ]
  },
  {
   "cell_type": "code",
   "execution_count": 76,
   "metadata": {},
   "outputs": [
    {
     "data": {
      "text/plain": [
       "'This is a string. Second line of file'"
      ]
     },
     "execution_count": 76,
     "metadata": {},
     "output_type": "execute_result"
    }
   ],
   "source": [
    "#Read\n",
    "f.seek(0)\n",
    "f.read()"
   ]
  },
  {
   "cell_type": "code",
   "execution_count": null,
   "metadata": {},
   "outputs": [],
   "source": []
  }
 ],
 "metadata": {
  "kernelspec": {
   "display_name": "Python 3",
   "language": "python",
   "name": "python3"
  },
  "language_info": {
   "codemirror_mode": {
    "name": "ipython",
    "version": 3
   },
   "file_extension": ".py",
   "mimetype": "text/x-python",
   "name": "python",
   "nbconvert_exporter": "python",
   "pygments_lexer": "ipython3",
   "version": "3.7.0"
  }
 },
 "nbformat": 4,
 "nbformat_minor": 2
}
