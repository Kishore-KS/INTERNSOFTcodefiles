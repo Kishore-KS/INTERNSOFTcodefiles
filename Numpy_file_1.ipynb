{
 "cells": [
  {
   "cell_type": "code",
   "execution_count": 1,
   "metadata": {},
   "outputs": [],
   "source": [
    "#Importing numpy\n",
    "import numpy as np"
   ]
  },
  {
   "cell_type": "code",
   "execution_count": 2,
   "metadata": {},
   "outputs": [
    {
     "data": {
      "text/plain": [
       "array([ 0,  1,  2,  3,  4,  5,  6,  7,  8,  9, 10, 11, 12, 13, 14, 15, 16,\n",
       "       17, 18, 19])"
      ]
     },
     "execution_count": 2,
     "metadata": {},
     "output_type": "execute_result"
    }
   ],
   "source": [
    "a = np.arange(20)\n",
    "a"
   ]
  },
  {
   "cell_type": "code",
   "execution_count": 3,
   "metadata": {},
   "outputs": [
    {
     "data": {
      "text/plain": [
       "array([[ 0,  1,  2,  3,  4],\n",
       "       [ 5,  6,  7,  8,  9],\n",
       "       [10, 11, 12, 13, 14],\n",
       "       [15, 16, 17, 18, 19],\n",
       "       [20, 21, 22, 23, 24]])"
      ]
     },
     "execution_count": 3,
     "metadata": {},
     "output_type": "execute_result"
    }
   ],
   "source": [
    "#Reshaping\n",
    "a = np.arange(25).reshape(5,5)\n",
    "a"
   ]
  },
  {
   "cell_type": "code",
   "execution_count": 4,
   "metadata": {},
   "outputs": [
    {
     "name": "stdout",
     "output_type": "stream",
     "text": [
      "Dimensions:  2\n",
      "Shape:  (5, 5)\n",
      "Size:  25\n",
      "Type:  int32\n",
      "Size of item:  4\n",
      "<class 'numpy.ndarray'>\n"
     ]
    }
   ],
   "source": [
    "#Printing meta-data\n",
    "print(\"Dimensions: \", a.ndim)\n",
    "print(\"Shape: \",a.shape)\n",
    "print(\"Size: \",a.size)\n",
    "print(\"Type: \",a.dtype)\n",
    "print(\"Size of item: \",a.itemsize)\n",
    "print(type(a))"
   ]
  },
  {
   "cell_type": "code",
   "execution_count": 5,
   "metadata": {},
   "outputs": [
    {
     "name": "stdout",
     "output_type": "stream",
     "text": [
      "[21. 24. 53. 73.]\n",
      "float64\n"
     ]
    }
   ],
   "source": [
    "#Numpy array using list\n",
    "float_array = np.array([21.0, 24.0, 53.0, 73.0])\n",
    "print(float_array)\n",
    "print(float_array.dtype)"
   ]
  },
  {
   "cell_type": "code",
   "execution_count": 6,
   "metadata": {},
   "outputs": [
    {
     "data": {
      "text/plain": [
       "array([[1., 0., 0., 0., 0.],\n",
       "       [0., 1., 0., 0., 0.],\n",
       "       [0., 0., 1., 0., 0.],\n",
       "       [0., 0., 0., 1., 0.],\n",
       "       [0., 0., 0., 0., 1.]])"
      ]
     },
     "execution_count": 6,
     "metadata": {},
     "output_type": "execute_result"
    }
   ],
   "source": [
    "#Identity matrix\n",
    "c = np.eye(5)\n",
    "c"
   ]
  },
  {
   "cell_type": "code",
   "execution_count": 7,
   "metadata": {},
   "outputs": [
    {
     "name": "stdout",
     "output_type": "stream",
     "text": [
      "[5.         5.11111111 5.22222222 5.33333333 5.44444444 5.55555556\n",
      " 5.66666667 5.77777778 5.88888889 6.        ] \n",
      " -----------------------------------------------------------------\n",
      "[5.         6.66666667 8.33333333]\n"
     ]
    }
   ],
   "source": [
    "#Generate evenly spaced numbers between two numbers\n",
    "lin = np.linspace(5, 6, 10, endpoint=True)\n",
    "print(lin,\"\\n\",\"-\"*65)\n",
    "lin = np.linspace(5, 10, 3, endpoint=False)\n",
    "print(lin)"
   ]
  },
  {
   "cell_type": "code",
   "execution_count": 8,
   "metadata": {},
   "outputs": [
    {
     "name": "stdout",
     "output_type": "stream",
     "text": [
      "[1.00000000e+099 1.36887451e+099 1.87381742e+099 2.56502091e+099\n",
      " 3.51119173e+099 4.80638086e+099 6.57933225e+099 9.00628020e+099\n",
      " 1.23284674e+100 1.68761248e+100 2.31012970e+100 3.16227766e+100\n",
      " 4.32876128e+100 5.92553098e+100 8.11130831e+100 1.11033632e+101\n",
      " 1.51991108e+101 2.08056754e+101 2.84803587e+101 3.89860370e+101\n",
      " 5.33669923e+101 7.30527154e+101 1.00000000e+102 1.36887451e+102\n",
      " 1.87381742e+102 2.56502091e+102 3.51119173e+102 4.80638086e+102\n",
      " 6.57933225e+102 9.00628020e+102 1.23284674e+103 1.68761248e+103\n",
      " 2.31012970e+103 3.16227766e+103 4.32876128e+103 5.92553098e+103\n",
      " 8.11130831e+103 1.11033632e+104 1.51991108e+104 2.08056754e+104\n",
      " 2.84803587e+104 3.89860370e+104 5.33669923e+104 7.30527154e+104\n",
      " 1.00000000e+105]\n"
     ]
    }
   ],
   "source": [
    "#Generate evenly spaced log numbers between two numbers\n",
    "log = np.logspace(99, 105, 45, endpoint=True, base=10)\n",
    "print(log)"
   ]
  },
  {
   "cell_type": "code",
   "execution_count": 37,
   "metadata": {},
   "outputs": [
    {
     "name": "stdout",
     "output_type": "stream",
     "text": [
      "[[False  True  True]\n",
      " [ True False  True]\n",
      " [ True  True False]\n",
      " [ True  True  True]\n",
      " [ True  True  True]]\n"
     ]
    }
   ],
   "source": [
    "func = np.fromfunction(lambda i, j: i != j, (5, 3), dtype=int)\n",
    "print(func)"
   ]
  },
  {
   "cell_type": "code",
   "execution_count": 10,
   "metadata": {},
   "outputs": [
    {
     "name": "stdout",
     "output_type": "stream",
     "text": [
      "[[ 0  1  2  3  4]\n",
      " [ 5  6  7  8  9]\n",
      " [10 11 12 13 14]\n",
      " [15 16 17 18 19]\n",
      " [20 21 22 23 24]]\n",
      "--------------------\n",
      "[[ 0  1  2]\n",
      " [ 3  4  5]\n",
      " [ 6  7  8]\n",
      " [ 9 10 11]\n",
      " [12 13 14]]\n"
     ]
    }
   ],
   "source": [
    "a = np.arange(25).reshape(5,5)\n",
    "b = np.arange(15).reshape(5,3)\n",
    "print(\"{}\\n{}\\n{}\".format(a,\"-\"*20,b))"
   ]
  },
  {
   "cell_type": "code",
   "execution_count": 11,
   "metadata": {},
   "outputs": [
    {
     "name": "stdout",
     "output_type": "stream",
     "text": [
      "Scalar Multiplication: \n",
      " [[ 0  3  6  9 12]\n",
      " [15 18 21 24 27]\n",
      " [30 33 36 39 42]\n",
      " [45 48 51 54 57]\n",
      " [60 63 66 69 72]]\n"
     ]
    }
   ],
   "source": [
    "print(\"Scalar Multiplication: \\n\", a*3)"
   ]
  },
  {
   "cell_type": "code",
   "execution_count": 12,
   "metadata": {},
   "outputs": [
    {
     "name": "stdout",
     "output_type": "stream",
     "text": [
      "Addition: \n",
      " [[ 0  2  4]\n",
      " [ 6  8 10]\n",
      " [12 14 16]\n",
      " [18 20 22]\n",
      " [24 26 28]]\n"
     ]
    }
   ],
   "source": [
    "print(\"Addition: \\n\", b+b)"
   ]
  },
  {
   "cell_type": "code",
   "execution_count": 13,
   "metadata": {},
   "outputs": [
    {
     "name": "stdout",
     "output_type": "stream",
     "text": [
      "Squared = \n",
      " [[  0   1   4   9  16]\n",
      " [ 25  36  49  64  81]\n",
      " [100 121 144 169 196]\n",
      " [225 256 289 324 361]\n",
      " [400 441 484 529 576]]\n"
     ]
    }
   ],
   "source": [
    "print(\"Squared = \\n\", a**2)"
   ]
  },
  {
   "cell_type": "code",
   "execution_count": 14,
   "metadata": {},
   "outputs": [
    {
     "name": "stdout",
     "output_type": "stream",
     "text": [
      "b * b = \n",
      " [[  0   1   4]\n",
      " [  9  16  25]\n",
      " [ 36  49  64]\n",
      " [ 81 100 121]\n",
      " [144 169 196]]\n"
     ]
    }
   ],
   "source": [
    "print(\"b * b = \\n\", b*b)"
   ]
  },
  {
   "cell_type": "code",
   "execution_count": 15,
   "metadata": {},
   "outputs": [
    {
     "data": {
      "text/plain": [
       "array([[ 90, 100, 110],\n",
       "       [240, 275, 310],\n",
       "       [390, 450, 510],\n",
       "       [540, 625, 710],\n",
       "       [690, 800, 910]])"
      ]
     },
     "execution_count": 15,
     "metadata": {},
     "output_type": "execute_result"
    }
   ],
   "source": [
    "#Matrix multipliction\n",
    "a@b"
   ]
  },
  {
   "cell_type": "code",
   "execution_count": 16,
   "metadata": {},
   "outputs": [
    {
     "name": "stdout",
     "output_type": "stream",
     "text": [
      "[[ 0  1  2  3  4]\n",
      " [ 5  6  7  8  9]\n",
      " [10 11 12 13 14]\n",
      " [15 16 17 18 19]\n",
      " [20 21 22 23 24]]\n",
      "Row: [ 10  35  60  85 110]\n",
      "Column: [50 55 60 65 70]\n",
      "Total: 300\n",
      "Max: 24\n",
      "Min: 0\n"
     ]
    }
   ],
   "source": [
    "print(\"{}\\nRow: {}\\nColumn: {}\\nTotal: {}\\nMax: {}\\nMin: {}\".format(a, a.sum(axis=1), a.sum(axis=0), a.sum(), a.max(), a.min()))"
   ]
  },
  {
   "cell_type": "code",
   "execution_count": 17,
   "metadata": {},
   "outputs": [
    {
     "name": "stdout",
     "output_type": "stream",
     "text": [
      "[[  0.           6.28318531  12.56637061  18.84955592  25.13274123]\n",
      " [ 31.41592654  37.69911184  43.98229715  50.26548246  56.54866776]\n",
      " [ 62.83185307  69.11503838  75.39822369  81.68140899  87.9645943 ]\n",
      " [ 94.24777961 100.53096491 106.81415022 113.09733553 119.38052084]\n",
      " [125.66370614 131.94689145 138.23007676 144.51326207 150.79644737]]\n"
     ]
    }
   ],
   "source": [
    "b = (a*np.pi)*2\n",
    "print(b)"
   ]
  },
  {
   "cell_type": "code",
   "execution_count": 18,
   "metadata": {},
   "outputs": [
    {
     "name": "stdout",
     "output_type": "stream",
     "text": [
      "Sine: \n",
      " [[ 0.00000000e+00 -2.44929360e-16 -4.89858720e-16 -7.34788079e-16\n",
      "  -9.79717439e-16]\n",
      " [-1.22464680e-15 -1.46957616e-15 -1.71450552e-15 -1.95943488e-15\n",
      "  -2.20436424e-15]\n",
      " [-2.44929360e-15 -9.79965032e-15 -2.93915232e-15  3.92134568e-15\n",
      "  -3.42901104e-15]\n",
      " [-1.07793678e-14 -3.91886976e-15  2.94162824e-15 -4.40872848e-15\n",
      "  -1.17590852e-14]\n",
      " [-4.89858720e-15  1.96191080e-15 -1.95993006e-14 -1.27388026e-14\n",
      "  -5.87830464e-15]]\n"
     ]
    }
   ],
   "source": [
    "d = np.sin(b)\n",
    "print(\"Sine: \\n\",d)"
   ]
  },
  {
   "cell_type": "code",
   "execution_count": 19,
   "metadata": {},
   "outputs": [
    {
     "name": "stdout",
     "output_type": "stream",
     "text": [
      "Cosine: \n",
      " [[1. 1. 1. 1. 1.]\n",
      " [1. 1. 1. 1. 1.]\n",
      " [1. 1. 1. 1. 1.]\n",
      " [1. 1. 1. 1. 1.]\n",
      " [1. 1. 1. 1. 1.]]\n"
     ]
    }
   ],
   "source": [
    "c = np.cos(b)\n",
    "print(\"Cosine: \\n\",c)"
   ]
  },
  {
   "cell_type": "code",
   "execution_count": 20,
   "metadata": {},
   "outputs": [],
   "source": [
    "a = np.arange(20)"
   ]
  },
  {
   "cell_type": "code",
   "execution_count": 21,
   "metadata": {},
   "outputs": [
    {
     "data": {
      "text/plain": [
       "3"
      ]
     },
     "execution_count": 21,
     "metadata": {},
     "output_type": "execute_result"
    }
   ],
   "source": [
    "#Indexing and slicing works similar to Lists\n",
    "a[3]"
   ]
  },
  {
   "cell_type": "code",
   "execution_count": 22,
   "metadata": {},
   "outputs": [
    {
     "data": {
      "text/plain": [
       "array([5, 6, 7, 8])"
      ]
     },
     "execution_count": 22,
     "metadata": {},
     "output_type": "execute_result"
    }
   ],
   "source": [
    "a[5:9]"
   ]
  },
  {
   "cell_type": "code",
   "execution_count": 23,
   "metadata": {},
   "outputs": [
    {
     "data": {
      "text/plain": [
       "array([ 0,  2,  4,  6,  8, 10, 12, 14, 16, 18])"
      ]
     },
     "execution_count": 23,
     "metadata": {},
     "output_type": "execute_result"
    }
   ],
   "source": [
    "a[::2]"
   ]
  },
  {
   "cell_type": "code",
   "execution_count": 24,
   "metadata": {},
   "outputs": [
    {
     "data": {
      "text/plain": [
       "array([[  0.        ,   6.28318531,  12.56637061,  18.84955592,\n",
       "         25.13274123],\n",
       "       [ 31.41592654,  37.69911184,  43.98229715,  50.26548246,\n",
       "         56.54866776],\n",
       "       [ 62.83185307,  69.11503838,  75.39822369,  81.68140899,\n",
       "         87.9645943 ],\n",
       "       [ 94.24777961, 100.53096491, 106.81415022, 113.09733553,\n",
       "        119.38052084],\n",
       "       [125.66370614, 131.94689145, 138.23007676, 144.51326207,\n",
       "        150.79644737]])"
      ]
     },
     "execution_count": 24,
     "metadata": {},
     "output_type": "execute_result"
    }
   ],
   "source": [
    "b"
   ]
  },
  {
   "cell_type": "code",
   "execution_count": 25,
   "metadata": {},
   "outputs": [
    {
     "data": {
      "text/plain": [
       "array([ 6.28318531, 37.69911184, 69.11503838])"
      ]
     },
     "execution_count": 25,
     "metadata": {},
     "output_type": "execute_result"
    }
   ],
   "source": [
    "b[:3,1]"
   ]
  },
  {
   "cell_type": "code",
   "execution_count": 26,
   "metadata": {},
   "outputs": [
    {
     "data": {
      "text/plain": [
       "94.24777960769379"
      ]
     },
     "execution_count": 26,
     "metadata": {},
     "output_type": "execute_result"
    }
   ],
   "source": [
    "b[3,0]"
   ]
  },
  {
   "cell_type": "code",
   "execution_count": 27,
   "metadata": {},
   "outputs": [
    {
     "data": {
      "text/plain": [
       "array([[ 31.41592654,  37.69911184],\n",
       "       [ 62.83185307,  69.11503838],\n",
       "       [ 94.24777961, 100.53096491]])"
      ]
     },
     "execution_count": 27,
     "metadata": {},
     "output_type": "execute_result"
    }
   ],
   "source": [
    "b[1:4,0:2]"
   ]
  },
  {
   "cell_type": "code",
   "execution_count": 28,
   "metadata": {},
   "outputs": [
    {
     "name": "stdout",
     "output_type": "stream",
     "text": [
      "[  0.           6.28318531  12.56637061  18.84955592  25.13274123\n",
      "  31.41592654  37.69911184  43.98229715  50.26548246  56.54866776\n",
      "  62.83185307  69.11503838  75.39822369  81.68140899  87.9645943\n",
      "  94.24777961 100.53096491 106.81415022 113.09733553 119.38052084\n",
      " 125.66370614 131.94689145 138.23007676 144.51326207 150.79644737]\n"
     ]
    }
   ],
   "source": [
    "#Convert to 1D array\n",
    "b = b.flatten()\n",
    "print(b)"
   ]
  },
  {
   "cell_type": "code",
   "execution_count": 29,
   "metadata": {},
   "outputs": [
    {
     "name": "stdout",
     "output_type": "stream",
     "text": [
      "0.0\n",
      "6.283185307179586\n",
      "12.566370614359172\n",
      "18.84955592153876\n",
      "25.132741228718345\n",
      "31.41592653589793\n",
      "37.69911184307752\n",
      "43.982297150257104\n",
      "50.26548245743669\n",
      "56.548667764616276\n",
      "62.83185307179586\n",
      "69.11503837897544\n",
      "75.39822368615503\n",
      "81.68140899333463\n",
      "87.96459430051421\n",
      "94.24777960769379\n",
      "100.53096491487338\n",
      "106.81415022205297\n",
      "113.09733552923255\n",
      "119.38052083641213\n",
      "125.66370614359172\n",
      "131.94689145077132\n",
      "138.23007675795088\n",
      "144.51326206513048\n",
      "150.79644737231007\n"
     ]
    }
   ],
   "source": [
    "#Iteration\n",
    "for item in b:\n",
    "    print(item)"
   ]
  },
  {
   "cell_type": "code",
   "execution_count": 30,
   "metadata": {},
   "outputs": [
    {
     "name": "stdout",
     "output_type": "stream",
     "text": [
      "0.0\n",
      "6.283185307179586\n",
      "12.566370614359172\n",
      "18.84955592153876\n",
      "25.132741228718345\n",
      "31.41592653589793\n",
      "37.69911184307752\n",
      "43.982297150257104\n",
      "50.26548245743669\n",
      "56.548667764616276\n",
      "62.83185307179586\n",
      "69.11503837897544\n",
      "75.39822368615503\n",
      "81.68140899333463\n",
      "87.96459430051421\n",
      "94.24777960769379\n",
      "100.53096491487338\n",
      "106.81415022205297\n",
      "113.09733552923255\n",
      "119.38052083641213\n",
      "125.66370614359172\n",
      "131.94689145077132\n",
      "138.23007675795088\n",
      "144.51326206513048\n",
      "150.79644737231007\n"
     ]
    }
   ],
   "source": [
    "for item in b.flat:\n",
    "    print(item)"
   ]
  },
  {
   "cell_type": "code",
   "execution_count": 31,
   "metadata": {},
   "outputs": [
    {
     "data": {
      "text/plain": [
       "array([ 0,  1,  2,  3,  4,  5,  6,  7,  8,  9, 10, 11, 12, 13, 14])"
      ]
     },
     "execution_count": 31,
     "metadata": {},
     "output_type": "execute_result"
    }
   ],
   "source": [
    "a = np.arange(15)\n",
    "a"
   ]
  },
  {
   "cell_type": "code",
   "execution_count": 32,
   "metadata": {},
   "outputs": [
    {
     "data": {
      "text/plain": [
       "True"
      ]
     },
     "execution_count": 32,
     "metadata": {},
     "output_type": "execute_result"
    }
   ],
   "source": [
    "#b references the same memory location as a\n",
    "b = a\n",
    "b is a"
   ]
  },
  {
   "cell_type": "code",
   "execution_count": 33,
   "metadata": {},
   "outputs": [
    {
     "name": "stdout",
     "output_type": "stream",
     "text": [
      "(5, 3)   (5, 3)\n"
     ]
    }
   ],
   "source": [
    "#Changes done to b will reflect in a and vise versa\n",
    "b.shape = (5, 3)\n",
    "print(b.shape,\" \",a.shape)"
   ]
  },
  {
   "cell_type": "code",
   "execution_count": 34,
   "metadata": {},
   "outputs": [
    {
     "name": "stdout",
     "output_type": "stream",
     "text": [
      "Properties: \n",
      " [[0 1]\n",
      " [2 3]\n",
      " [4 5]] \n",
      "\n",
      " [0 1 2 3 4 5]\n",
      "\n",
      "Items: \n",
      " [[    0     1]\n",
      " [    2     3]\n",
      " [10000     5]] \n",
      "\n",
      " [    0     1     2     3 10000     5]\n"
     ]
    }
   ],
   "source": [
    "#Holds the same items but can have different properties\n",
    "a = np.arange(6)\n",
    "b = a[:]\n",
    "a.shape = (3,2)\n",
    "print(\"Properties: \\n\",a,\"\\n\\n\",b)\n",
    "\n",
    "b[4] = 10000\n",
    "print(\"\\nItems: \\n\",a,\"\\n\\n\",b)"
   ]
  },
  {
   "cell_type": "code",
   "execution_count": 35,
   "metadata": {},
   "outputs": [
    {
     "name": "stdout",
     "output_type": "stream",
     "text": [
      "[[    0     1]\n",
      " [    2     3]\n",
      " [10000     5]] \n",
      "\n",
      " [    0     1     2     3 10000     5]\n"
     ]
    }
   ],
   "source": [
    "b = a.copy()\n",
    "b = b.flatten()\n",
    "print(a,\"\\n\\n\",b)"
   ]
  },
  {
   "cell_type": "code",
   "execution_count": null,
   "metadata": {},
   "outputs": [],
   "source": []
  }
 ],
 "metadata": {
  "kernelspec": {
   "display_name": "Python 3",
   "language": "python",
   "name": "python3"
  },
  "language_info": {
   "codemirror_mode": {
    "name": "ipython",
    "version": 3
   },
   "file_extension": ".py",
   "mimetype": "text/x-python",
   "name": "python",
   "nbconvert_exporter": "python",
   "pygments_lexer": "ipython3",
   "version": "3.7.0"
  }
 },
 "nbformat": 4,
 "nbformat_minor": 2
}
